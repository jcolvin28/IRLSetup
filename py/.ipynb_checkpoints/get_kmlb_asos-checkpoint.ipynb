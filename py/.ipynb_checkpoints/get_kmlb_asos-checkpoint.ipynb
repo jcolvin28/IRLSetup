{
 "cells": [
  {
   "cell_type": "markdown",
   "metadata": {},
   "source": [
    "# get_kmlb_asos.ipynb\n",
    "\n",
    "A script that grabs KMLB ASOS data within a specified time range"
   ]
  },
  {
   "cell_type": "code",
   "execution_count": 1,
   "metadata": {
    "collapsed": true
   },
   "outputs": [],
   "source": [
    "\"\"\"\n",
    "Example script that scrapes data from the IEM ASOS download service\n",
    "\"\"\"\n",
    "from __future__ import print_function\n",
    "import json\n",
    "import time\n",
    "import datetime\n",
    "import pandas as pd\n",
    "import numpy as np\n",
    "import math\n",
    "from urllib.request import urlopen\n",
    "\n",
    "# Number of attempts to download data\n",
    "MAX_ATTEMPTS = 6\n",
    "SERVICE = \"https://mesonet.agron.iastate.edu/cgi-bin/request/asos.py?\""
   ]
  },
  {
   "cell_type": "code",
   "execution_count": 2,
   "metadata": {
    "collapsed": true
   },
   "outputs": [],
   "source": [
    "def get_uv(wspd, wdir):\n",
    "    \n",
    "    # if we are given a series, then convert to array and process the whole array\n",
    "    if type(wspd) is pd.core.series.Series:\n",
    "        wspd = wspd.as_matrix()\n",
    "        wdir = wdir.as_matrix()\n",
    "        u = -1 * wspd * np.sin(np.radians(wdir))\n",
    "        v = -1 * wspd * np.cos(np.radians(wdir))\n",
    "        return {'u' : u, 'v' : v}\n",
    "    \n",
    "    if type(wspd) is float or type(wspd) is int:\n",
    "        wspd = float(wspd)\n",
    "        wdir = float(wdir)\n",
    "        u = -1 * wspd * math.sin(0.01745329251 * wdir) # the 0.01745329251 is pi / 180\n",
    "        v = -1 * wspd * math.cos(0.01745329251 * wdir) # the 0.01745329251 is pi / 180\n",
    "        # resolve floating point rounding of small numbers\n",
    "        if u < 0.00001 and u > -0.00001:\n",
    "            u = 0.0\n",
    "        if v < 0.00001 and v > -0.00001:\n",
    "            v = 0.0\n",
    "        return [u, v]"
   ]
  },
  {
   "cell_type": "code",
   "execution_count": 3,
   "metadata": {
    "collapsed": true
   },
   "outputs": [],
   "source": [
    "def get_wspd_wdir(u, v):\n",
    "    \n",
    "    # return NAs if any are such\n",
    "    if np.isnan([u, v]).any():\n",
    "        return [np.nan, np.nan]\n",
    "    \n",
    "    # make sure u and v are floats\n",
    "    u = float(u)\n",
    "    v = float(v)\n",
    "    \n",
    "    wspd = math.sqrt(math.pow(u, 2) + math.pow(v, 2))\n",
    "    wdir = math.atan2(-1 * u, -1 * v) * 57.2957795131 # 57.2957795131 is 180 / pi\n",
    "    if wdir < 0:    # atan2 goes from -pi to pi, so you need to\n",
    "        wdir += 360 # add 360 in case wdir is negative\n",
    "    return [wspd, int(round(wdir))]"
   ]
  },
  {
   "cell_type": "code",
   "execution_count": 4,
   "metadata": {
    "collapsed": true
   },
   "outputs": [],
   "source": [
    "def download_data(uri):\n",
    "    \"\"\"Fetch the data from the IEM\n",
    "\n",
    "    The IEM download service has some protections in place to keep the number\n",
    "    of inbound requests in check.  This function implements an exponential\n",
    "    backoff to keep individual downloads from erroring.\n",
    "\n",
    "    Args:\n",
    "      uri (string): URL to fetch\n",
    "\n",
    "    Returns:\n",
    "      string data\n",
    "    \"\"\"\n",
    "    attempt = 0\n",
    "    while attempt < MAX_ATTEMPTS:\n",
    "        try:\n",
    "            data = urlopen(uri, timeout=300).read()\n",
    "            if data is not None and not data.startswith('ERROR'):\n",
    "                return data\n",
    "        except Exception as exp:\n",
    "            print(\"download_data(%s) failed with %s\" % (uri, exp))\n",
    "            time.sleep(5)\n",
    "        attempt += 1\n",
    "\n",
    "    print(\"Exhausted attempts to download, returning empty data\")\n",
    "    return \"\""
   ]
  },
  {
   "cell_type": "code",
   "execution_count": 5,
   "metadata": {
    "collapsed": true
   },
   "outputs": [],
   "source": [
    "# timestamps in UTC to request data for\n",
    "startts = datetime.datetime(2017, 4, 1)\n",
    "endts = datetime.datetime(2017, 9, 30)\n",
    "\n",
    "service = SERVICE + \"data=all&tz=Etc/UTC&format=comma&latlon=yes&\"\n",
    "\n",
    "service += startts.strftime('year1=%Y&month1=%m&day1=%d&')\n",
    "service += endts.strftime('year2=%Y&month2=%m&day2=%d&')\n",
    "\n",
    "# states = \"\"\"AK AL AR AZ CA CO CT DE FL GA HI IA ID IL IN KS KY LA MA MD ME\n",
    "#  MI MN MO MS MT NC ND NE NH NJ NM NV NY OH OK OR PA RI SC SD TN TX UT VA VT\n",
    "#  WA WI WV WY\"\"\"\n",
    "# IEM quirk to have Iowa AWOS sites in its own labeled network\n",
    "networks = ['FL_ASOS']\n",
    "# for state in states.split():\n",
    "#     networks.append(\"%s_ASOS\" % (state,))"
   ]
  },
  {
   "cell_type": "code",
   "execution_count": 8,
   "metadata": {
    "scrolled": true
   },
   "outputs": [
    {
     "name": "stdout",
     "output_type": "stream",
     "text": [
      "Network: FL_ASOS Downloading: MELBOURNE REGIONAL [MLB]\n"
     ]
    }
   ],
   "source": [
    "for network in networks:\n",
    "    # Get metadata\n",
    "    uri = (\"https://mesonet.agron.iastate.edu/\"\n",
    "           \"geojson/network/%s.geojson\") % (network,)\n",
    "    data = urlopen(uri)\n",
    "    jdict = json.load(data)\n",
    "    for site in jdict['features']:\n",
    "        faaid = site['properties']['sid']\n",
    "        if faaid == 'MLB':\n",
    "            sitename = site['properties']['sname']\n",
    "            uri = '%s&station=%s' % (service, faaid)\n",
    "            print(('Network: %s Downloading: %s [%s]'\n",
    "                   ) % (network, sitename, faaid))\n",
    "#             data = download_data(uri)\n",
    "#             outfn = '%s_%s_%s.txt' % (faaid, startts.strftime(\"%Y%m%d%H%M\"),\n",
    "#                                       endts.strftime(\"%Y%m%d%H%M\"))\n",
    "#             out = open(outfn, 'w')\n",
    "#             out.write(data)\n",
    "#             out.close()"
   ]
  },
  {
   "cell_type": "code",
   "execution_count": 10,
   "metadata": {
    "collapsed": true
   },
   "outputs": [],
   "source": [
    "try:\n",
    "    kmlb_asos = pd.read_csv(uri, skiprows=5, usecols=['valid', 'drct', 'sknt', 'mslp'], na_values='M')\n",
    "except ValueError:\n",
    "    kmlb_asos = pd.read_csv(uri, skiprows=5, usecols=['valid', ' drct', ' sknt', ' mslp'], na_values='M')\n",
    "    kmlb_asos.columns = ['valid', 'drct', 'sknt', 'mslp']\n",
    "kmlb_asos['valid'] = pd.to_datetime(kmlb_asos['valid'])\n",
    "\n",
    "# only keep rows with mslp (hourly metars)\n",
    "kmlb_asos = kmlb_asos.dropna().reset_index(drop=True)\n",
    "\n",
    "# round valid to nearest hour, call it validtime\n",
    "ns60min=60*60*1000000000   # 60 minutes in nanoseconds \n",
    "kmlb_asos['validtime'] = pd.to_datetime(((kmlb_asos['valid'].astype(np.int64) // ns60min + 1 ) * ns60min))\n",
    "\n",
    "# drop columns that we don't need anymore\n",
    "kmlb_asos = kmlb_asos.drop(['valid', 'mslp'], axis=1)\n",
    "\n",
    "# convert from knots to m/s\n",
    "kmlb_asos['wspd'] = kmlb_asos['sknt'] * 0.5144447\n",
    "kmlb_asos = kmlb_asos.drop('sknt', axis = 1)"
   ]
  },
  {
   "cell_type": "code",
   "execution_count": 12,
   "metadata": {
    "collapsed": true
   },
   "outputs": [],
   "source": [
    "# now calculate u and v from drct and sknt\n",
    "uv = get_uv(kmlb_asos['wspd'], kmlb_asos['drct'])\n",
    "kmlb_asos['u'] = uv['u']\n",
    "kmlb_asos['v'] = uv['v']"
   ]
  },
  {
   "cell_type": "code",
   "execution_count": 14,
   "metadata": {
    "collapsed": true
   },
   "outputs": [],
   "source": [
    "# calculate the wind runs and setup from these data\n",
    "wndrun_u = np.zeros(len(kmlb_asos['validtime']))\n",
    "wndrun_u[:] = np.nan\n",
    "wndrun_v = wndrun_u.copy()\n",
    "setup = wndrun_u.copy()\n",
    "\n",
    "i = 0\n",
    "time_start = kmlb_asos['validtime'][0]\n",
    "for row in kmlb_asos.itertuples():\n",
    "    # only perform calculation if we have enough data to calculate a wind run\n",
    "    if row[2] >= time_start + datetime.timedelta(hours = 11):\n",
    "        wndrun = kmlb_asos[(kmlb_asos['validtime'] <= row[2]) \n",
    "                           & (kmlb_asos['validtime'] > row[2] \n",
    "                              - datetime.timedelta(hours = 12))].drop(['drct', 'wspd'], axis=1).mean()\n",
    "\n",
    "        # update arrays with calculated wind runs\n",
    "        wndrun_u[i], wndrun_v[i] = wndrun\n",
    "\n",
    "        # now on to calculating setup\n",
    "        wndrun_wspd_wdir = get_wspd_wdir(wndrun[0], wndrun[1])\n",
    "\n",
    "        u1 = wndrun_wspd_wdir[0] * math.cos(math.radians(wndrun_wspd_wdir[1] + 10))\n",
    "        u2 = wndrun_wspd_wdir[0] * math.cos(math.radians(wndrun_wspd_wdir[1] + 26))\n",
    "        u_r = -1 * (u1 * 28 + u2 * 70) / 98\n",
    "        setup[i] = 1.637 * math.copysign(1, u_r) * math.pow(abs(u_r), 1.5)\n",
    "            \n",
    "    i += 1"
   ]
  },
  {
   "cell_type": "code",
   "execution_count": 15,
   "metadata": {
    "collapsed": true
   },
   "outputs": [],
   "source": [
    "kmlb_asos['wndrun_u'] = wndrun_u\n",
    "kmlb_asos['wndrun_v'] = wndrun_v\n",
    "kmlb_asos['setup'] = setup"
   ]
  },
  {
   "cell_type": "code",
   "execution_count": 16,
   "metadata": {
    "collapsed": true
   },
   "outputs": [],
   "source": [
    "kmlb_asos.to_csv('kmlb_setup.csv', index=False)"
   ]
  }
 ],
 "metadata": {
  "kernelspec": {
   "display_name": "Python 3",
   "language": "python",
   "name": "python3"
  },
  "language_info": {
   "codemirror_mode": {
    "name": "ipython",
    "version": 3
   },
   "file_extension": ".py",
   "mimetype": "text/x-python",
   "name": "python",
   "nbconvert_exporter": "python",
   "pygments_lexer": "ipython3",
   "version": "3.6.2"
  }
 },
 "nbformat": 4,
 "nbformat_minor": 2
}
